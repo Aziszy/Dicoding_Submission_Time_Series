{
  "cells": [
    {
      "cell_type": "code",
      "execution_count": null,
      "metadata": {
        "id": "pXOz8uCvQvXx"
      },
      "outputs": [],
      "source": [
        "import numpy as np\n",
        "import pandas as pd\n",
        "import matplotlib.pyplot as plt\n",
        "import tensorflow as tf\n",
        "from sklearn.model_selection import train_test_split\n",
        "from sklearn.preprocessing import MinMaxScaler"
      ]
    },
    {
      "cell_type": "code",
      "execution_count": null,
      "metadata": {
        "id": "JkJXZA6XQvX1"
      },
      "outputs": [],
      "source": [
        "df = pd.read_csv('AEP_hourly.csv')\n",
        "df.info()"
      ]
    },
    {
      "cell_type": "code",
      "execution_count": null,
      "metadata": {
        "id": "yihgHciQ72I-"
      },
      "outputs": [],
      "source": [
        "df"
      ]
    },
    {
      "cell_type": "code",
      "execution_count": null,
      "metadata": {
        "id": "tgacoYU5QvX2"
      },
      "outputs": [],
      "source": [
        "dates = df['Datetime'].values\n",
        "label = df['AEP_MW'].values\n",
        "label = label.reshape(-1,1)\n",
        "\n",
        "plt.figure(figsize=(18,5))\n",
        "plt.plot(dates, label)\n",
        "plt.title('AEP_MW')\n",
        "\n",
        "scaler = MinMaxScaler()\n",
        "scaled_label = scaler.fit_transform(label)\n",
        "scaled_label = scaled_label.reshape(1,-1)\n",
        "scaled_label = np.hstack(scaled_label)\n",
        "\n",
        "X_train, X_test, y_train, y_test = train_test_split(dates, scaled_label, test_size=0.2, random_state=1, shuffle=False)"
      ]
    },
    {
      "cell_type": "code",
      "execution_count": null,
      "metadata": {
        "id": "eFy-OrrHQvX2"
      },
      "outputs": [],
      "source": [
        "def windowed_dataset(series, window_size, batch_size, shuffle_buffer):\n",
        "    series = tf.expand_dims(series, axis=-1)\n",
        "    ds = tf.data.Dataset.from_tensor_slices(series)\n",
        "    ds = ds.window(window_size + 1, shift=1, drop_remainder=True)\n",
        "    ds = ds.flat_map(lambda w: w.batch(window_size + 1))\n",
        "    ds = ds.shuffle(shuffle_buffer)\n",
        "    ds = ds.map(lambda w: (w[:-1], w[-1:]))\n",
        "    return ds.batch(batch_size).prefetch(1)"
      ]
    },
    {
      "cell_type": "code",
      "execution_count": null,
      "metadata": {
        "id": "IR_ZQj2cQvX3"
      },
      "outputs": [],
      "source": [
        "skala_data = (max(scaled_label) - min(scaled_label)) * 0.1\n",
        "print(skala_data)\n",
        "\n",
        "class myCallback(tf.keras.callbacks.Callback):\n",
        "    def on_epoch_end(self, epoch, logs={}):\n",
        "        if (logs.get('mae') < skala_data) and (logs.get('val_mae') < skala_data):\n",
        "            self.model.stop_training = True;\n",
        "            print('\\nMae telah dibawah 10% dari skala data yaitu {}'.format(skala_data))\n",
        "\n",
        "callbacks = myCallback()"
      ]
    },
    {
      "cell_type": "code",
      "execution_count": null,
      "metadata": {
        "id": "34KoivyYQvX3"
      },
      "outputs": [],
      "source": [
        "train_set = windowed_dataset(y_train, window_size=90, batch_size=100, shuffle_buffer=1000)\n",
        "val_set = windowed_dataset(y_test, window_size=90, batch_size=100, shuffle_buffer=1000)\n",
        "\n",
        "model = tf.keras.models.Sequential([\n",
        "    tf.keras.layers.LSTM(60, return_sequences=True),\n",
        "    tf.keras.layers.LSTM(60),\n",
        "    tf.keras.layers.Dense(512, activation='relu'),\n",
        "    tf.keras.layers.Dropout(0.5),\n",
        "    tf.keras.layers.Dense(256, activation='relu'),\n",
        "    tf.keras.layers.Dropout(0.5),\n",
        "    tf.keras.layers.Dense(1),\n",
        "    ])\n",
        "\n",
        "optimizer = tf.keras.optimizers.SGD(learning_rate=1.000e-01, momentum=0.9)\n",
        "model.compile(\n",
        "    loss=tf.keras.losses.Huber(),\n",
        "    optimizer=optimizer,\n",
        "    metrics=['mae']\n",
        "    )\n",
        "hist = model.fit(\n",
        "    train_set,\n",
        "    epochs=100,\n",
        "    validation_data=val_set,\n",
        "    verbose=2,\n",
        "    callbacks=[callbacks],\n",
        "    )"
      ]
    },
    {
      "cell_type": "code",
      "execution_count": null,
      "metadata": {
        "id": "rwPAt8ytQvX4"
      },
      "outputs": [],
      "source": [
        "plt.figure(figsize=(18,5))\n",
        "\n",
        "plt.subplot(1,2,1)\n",
        "plt.plot(hist.history['mae'])\n",
        "plt.plot(hist.history['val_mae'])\n",
        "plt.title('Model Mae')\n",
        "plt.xlabel('Epochs')\n",
        "plt.ylabel('Mae')\n",
        "plt.legend(['train', 'test'], loc='upper left')\n",
        "\n",
        "plt.subplot(1,2,2)\n",
        "plt.plot(hist.history['loss'])\n",
        "plt.plot(hist.history['val_loss'])\n",
        "plt.title('Model Loss')\n",
        "plt.xlabel('Epochs')\n",
        "plt.ylabel('Loss')\n",
        "plt.legend(['train', 'test'], loc='upper left')\n",
        "\n",
        "plt.show()"
      ]
    }
  ],
  "metadata": {
    "accelerator": "GPU",
    "colab": {
      "collapsed_sections": [],
      "name": "SubmissionTimeSeries.ipynb",
      "provenance": []
    },
    "interpreter": {
      "hash": "25f0aba0b9a2d213117a240daa75dbf8ce80c7f9a754a399687148d3372654e0"
    },
    "kernelspec": {
      "display_name": "Python 3.9.7 64-bit ('base': conda)",
      "language": "python",
      "name": "python3"
    },
    "language_info": {
      "codemirror_mode": {
        "name": "ipython",
        "version": 3
      },
      "file_extension": ".py",
      "mimetype": "text/x-python",
      "name": "python",
      "nbconvert_exporter": "python",
      "pygments_lexer": "ipython3",
      "version": "3.9.7"
    },
    "orig_nbformat": 4
  },
  "nbformat": 4,
  "nbformat_minor": 0
}